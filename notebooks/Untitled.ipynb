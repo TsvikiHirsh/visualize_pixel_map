{
 "cells": [
  {
   "cell_type": "code",
   "execution_count": 2,
   "id": "8c876ffe-1053-417e-a149-a27103b61cbb",
   "metadata": {},
   "outputs": [],
   "source": [
    "import visualize_pixel_map as vpm"
   ]
  },
  {
   "cell_type": "code",
   "execution_count": 10,
   "id": "4cc2bba9-a142-42c1-9c17-8bb28597a8da",
   "metadata": {},
   "outputs": [
    {
     "ename": "TypeError",
     "evalue": "Data.prepare_histograms() missing 1 required positional argument: 'bins'",
     "output_type": "error",
     "traceback": [
      "\u001b[31m---------------------------------------------------------------------------\u001b[39m",
      "\u001b[31mTypeError\u001b[39m                                 Traceback (most recent call last)",
      "\u001b[36mCell\u001b[39m\u001b[36m \u001b[39m\u001b[32mIn[10]\u001b[39m\u001b[32m, line 2\u001b[39m\n\u001b[32m      1\u001b[39m a = vpm.Data().from_csv(\u001b[33m\"\u001b[39m\u001b[33mdata.empirphot.csv\u001b[39m\u001b[33m\"\u001b[39m)\n\u001b[32m----> \u001b[39m\u001b[32m2\u001b[39m \u001b[43ma\u001b[49m\u001b[43m.\u001b[49m\u001b[43mprepare_histograms\u001b[49m\u001b[43m(\u001b[49m\u001b[43m)\u001b[49m\n",
      "\u001b[31mTypeError\u001b[39m: Data.prepare_histograms() missing 1 required positional argument: 'bins'"
     ]
    }
   ],
   "source": [
    "a = vpm.Data().from_csv(\"data.empirphot.csv\")\n",
    "a.prepare_histograms()"
   ]
  },
  {
   "cell_type": "code",
   "execution_count": 9,
   "id": "3ea22bf3-be8e-4fbf-a028-2964618c3485",
   "metadata": {},
   "outputs": [
    {
     "data": {
      "text/plain": [
       "{}"
      ]
     },
     "execution_count": 9,
     "metadata": {},
     "output_type": "execute_result"
    }
   ],
   "source": [
    "a.h"
   ]
  },
  {
   "cell_type": "code",
   "execution_count": null,
   "id": "bbac4d2c-7e64-44c5-84e6-dab4d470ee39",
   "metadata": {},
   "outputs": [],
   "source": []
  }
 ],
 "metadata": {
  "kernelspec": {
   "display_name": "Python 3 (ipykernel)",
   "language": "python",
   "name": "python3"
  },
  "language_info": {
   "codemirror_mode": {
    "name": "ipython",
    "version": 3
   },
   "file_extension": ".py",
   "mimetype": "text/x-python",
   "name": "python",
   "nbconvert_exporter": "python",
   "pygments_lexer": "ipython3",
   "version": "3.13.3"
  }
 },
 "nbformat": 4,
 "nbformat_minor": 5
}
